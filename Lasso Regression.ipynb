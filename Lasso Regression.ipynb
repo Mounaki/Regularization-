{
 "cells": [
  {
   "cell_type": "markdown",
   "metadata": {},
   "source": [
    "### Lasso Regression"
   ]
  },
  {
   "cell_type": "code",
   "execution_count": 1,
   "metadata": {
    "collapsed": false
   },
   "outputs": [
    {
     "name": "stderr",
     "output_type": "stream",
     "text": [
      "/anaconda/lib/python3.6/site-packages/sklearn/cross_validation.py:44: DeprecationWarning: This module was deprecated in version 0.18 in favor of the model_selection module into which all the refactored classes and functions are moved. Also note that the interface of the new CV iterators are different from that of this module. This module will be removed in 0.20.\n",
      "  \"This module will be removed in 0.20.\", DeprecationWarning)\n"
     ]
    }
   ],
   "source": [
    "import matplotlib.pyplot as plt\n",
    "import numpy as np\n",
    "import seaborn as sns\n",
    "\n",
    "import sklearn.datasets\n",
    "import sklearn.cross_validation as cv\n",
    "from sklearn import linear_model"
   ]
  },
  {
   "cell_type": "code",
   "execution_count": 2,
   "metadata": {
    "collapsed": false
   },
   "outputs": [],
   "source": [
    "dataset = sklearn.datasets.fetch_california_housing()\n",
    "X = dataset['data']\n",
    "y = dataset['target']"
   ]
  },
  {
   "cell_type": "code",
   "execution_count": 3,
   "metadata": {
    "collapsed": true
   },
   "outputs": [],
   "source": [
    "X_train, X_test, y_train, y_test = cv.train_test_split(X, y, test_size=0.25, random_state=0)\n"
   ]
  },
  {
   "cell_type": "code",
   "execution_count": 4,
   "metadata": {
    "collapsed": false
   },
   "outputs": [
    {
     "name": "stdout",
     "output_type": "stream",
     "text": [
      "0.0001 [  4.38725041e-01   9.60573216e-03  -1.02607317e-01   6.13113796e-01\n",
      "  -7.60040055e-06  -4.48887838e-03  -4.17236219e-01  -4.30443252e-01]\n",
      "0.000215443469003 [  4.38302495e-01   9.61391144e-03  -1.01794733e-01   6.08938831e-01\n",
      "  -7.56305472e-06  -4.48945068e-03  -4.17101115e-01  -4.30245638e-01]\n",
      "0.000464158883361 [  4.37392131e-01   9.63153273e-03  -1.00044046e-01   5.99944032e-01\n",
      "  -7.48259718e-06  -4.49068359e-03  -4.16810078e-01  -4.29819929e-01]\n",
      "0.001 [  4.35430588e-01   9.66949146e-03  -9.62719961e-02   5.80564052e-01\n",
      "  -7.30927570e-06  -4.49333892e-03  -4.16183481e-01  -4.28903173e-01]\n",
      "0.00215443469003 [  4.31204047e-01   9.75125876e-03  -8.81446225e-02   5.38808130e-01\n",
      "  -6.93591112e-06  -4.49905750e-03  -4.14834520e-01  -4.26929052e-01]\n",
      "0.00464158883361 [  4.22097249e-01   9.92739780e-03  -7.06333349e-02   4.48842020e-01\n",
      "  -6.13160704e-06  -4.51137374e-03  -4.11930165e-01  -4.22677769e-01]\n",
      "0.01 [  4.02474124e-01   1.03068044e-02  -3.29020231e-02   2.54997948e-01\n",
      "  -4.39905667e-06  -4.53789547e-03  -4.05678899e-01  -4.13524436e-01]\n",
      "0.0215443469003 [  3.86045217e-01   1.09616724e-02   0.00000000e+00   4.92723567e-02\n",
      "  -2.26244480e-06  -4.50793925e-03  -3.73337007e-01  -3.77001287e-01]\n",
      "0.0464158883361 [  3.88955581e-01   1.22883904e-02   0.00000000e+00   0.00000000e+00\n",
      "   2.33744383e-06  -4.30435240e-03  -2.85299474e-01  -2.83164858e-01]\n",
      "0.1 [  3.95666352e-01   1.53279870e-02  -0.00000000e+00   0.00000000e+00\n",
      "   1.53002856e-05  -3.84935540e-03  -1.08253597e-01  -9.38537333e-02]\n"
     ]
    }
   ],
   "source": [
    "alphas = np.logspace(-4, -1, 10)\n",
    "scores = np.empty_like(alphas)\n",
    "for i,a in enumerate(alphas):\n",
    "    lasso = linear_model.Lasso()\n",
    "    lasso.set_params(alpha=a)\n",
    "    lasso.fit(X_train, y_train)\n",
    "    scores[i] = lasso.score(X_test, y_test)\n",
    "    print(a, lasso.coef_)"
   ]
  },
  {
   "cell_type": "code",
   "execution_count": 5,
   "metadata": {
    "collapsed": false
   },
   "outputs": [
    {
     "name": "stdout",
     "output_type": "stream",
     "text": [
      "CV [  3.81485543e-01   1.12872676e-02   2.20440782e-03   0.00000000e+00\n",
      "   1.88778147e-06  -3.51349405e-03  -3.39002345e-01  -3.39456784e-01]\n"
     ]
    }
   ],
   "source": [
    "lassocv = linear_model.LassoCV()\n",
    "lassocv.fit(X, y)\n",
    "lassocv_score = lassocv.score(X, y)\n",
    "lassocv_alpha = lassocv.alpha_\n",
    "print('CV', lassocv.coef_)"
   ]
  },
  {
   "cell_type": "code",
   "execution_count": 6,
   "metadata": {
    "collapsed": false
   },
   "outputs": [
    {
     "data": {
      "image/png": "[encoded data removed]",
      "text/plain": [
       "<matplotlib.figure.Figure at 0x11191ea20>"
      ]
     },
     "metadata": {},
     "output_type": "display_data"
    }
   ],
   "source": [
    "plt.plot(alphas, scores, '-ko')\n",
    "plt.axhline(lassocv_score, color='b', ls='--')\n",
    "plt.axvline(lassocv_alpha, color='b', ls='--')\n",
    "plt.xlabel(r'$\\alpha$')\n",
    "plt.ylabel('Score')\n",
    "plt.xscale('log')\n",
    "sns.despine(offset=15)\n",
    "\n",
    "plt.show()"
   ]
  },
  {
   "cell_type": "code",
   "execution_count": null,
   "metadata": {
    "collapsed": true
   },
   "outputs": [],
   "source": []
  }
 ],
 "metadata": {
  "kernelspec": {
   "display_name": "Python 3",
   "language": "python",
   "name": "python3"
  },
  "language_info": {
   "codemirror_mode": {
    "name": "ipython",
    "version": 3
   },
   "file_extension": ".py",
   "mimetype": "text/x-python",
   "name": "python",
   "nbconvert_exporter": "python",
   "pygments_lexer": "ipython3",
   "version": "3.6.0"
  }
 },
 "nbformat": 4,
 "nbformat_minor": 2
}
